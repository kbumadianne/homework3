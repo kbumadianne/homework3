{
 "cells": [
  {
   "cell_type": "markdown",
   "id": "46e4bf42-036a-4acd-9ec5-400a7c24c1f2",
   "metadata": {},
   "source": [
    "#Create a Python script to analyze the finanical records of your company"
   ]
  },
  {
   "cell_type": "markdown",
   "id": "0988b25a-c297-42b5-8ba6-2be46ac8cddf",
   "metadata": {},
   "source": [
    "Set up import and export files for data and analysis results"
   ]
  },
  {
   "cell_type": "code",
   "execution_count": 68,
   "id": "2bb34f53-dfbc-4840-87b9-3045d17da6e0",
   "metadata": {},
   "outputs": [],
   "source": [
    "#Import Dependencies\n",
    "import csv\n",
    "import os"
   ]
  },
  {
   "cell_type": "code",
   "execution_count": 69,
   "id": "e29c69d2-7768-4dd8-8241-447a9249a17c",
   "metadata": {},
   "outputs": [
    {
     "data": {
      "text/plain": [
       "'../Resources/budget_data.csv'"
      ]
     },
     "execution_count": 69,
     "metadata": {},
     "output_type": "execute_result"
    }
   ],
   "source": [
    "#Make a reference to the budget_data.csv\n",
    "file_to_load = os.path.join(\"../Resources/budget_data.csv\")\n",
    "file_to_load"
   ]
  },
  {
   "cell_type": "code",
   "execution_count": 70,
   "id": "af8f2576-3c75-4f9d-aad6-83e4282bea3e",
   "metadata": {},
   "outputs": [
    {
     "data": {
      "text/plain": [
       "'../Analysis/pybank_analysis.txt'"
      ]
     },
     "execution_count": 70,
     "metadata": {},
     "output_type": "execute_result"
    }
   ],
   "source": [
    "#Make a reference to the export file\n",
    "file_to_output = os.path.join(\"../Analysis/pybank_analysis.txt\")\n",
    "file_to_output"
   ]
  },
  {
   "cell_type": "markdown",
   "id": "38c6fa3e-5b16-4b00-abec-4940714077b0",
   "metadata": {},
   "source": [
    "Financial Analysis"
   ]
  },
  {
   "cell_type": "code",
   "execution_count": 74,
   "id": "dc74a163-6caa-47b5-8c68-4f6a217e10cd",
   "metadata": {},
   "outputs": [],
   "source": [
    "# Initialize variables\n",
    "total_months = 0\n",
    "total_net = 0\n",
    "change_list = []\n",
    "prev_net = None\n",
    "greatest_increase = [\"\", float('-inf')]\n",
    "greatest_decrease = [\"\", float('inf')]\n",
    "\n",
    "# Open CSV file\n",
    "with open(file_to_load) as budget_data:\n",
    "    reader = csv.reader(budget_data)\n",
    "\n",
    "    # Skip the header\n",
    "    header = next(reader)\n",
    "\n",
    "    # Process the first row\n",
    "    first_row = next(reader)\n",
    "    total_months += 1\n",
    "    total_net += int(first_row[1])\n",
    "    prev_net = int(first_row[1])\n",
    "\n",
    "    # Process subsequent rows\n",
    "    for row in reader:\n",
    "        total_months += 1\n",
    "        current_net = int(row[1])\n",
    "        total_net += current_net\n",
    "\n",
    "        # Calculate change\n",
    "        net_change = current_net - prev_net\n",
    "        change_list.append(net_change)\n",
    "        prev_net = current_net\n",
    "\n",
    "        # Check for greatest increase and decrease\n",
    "        if net_change > greatest_increase[1]:\n",
    "            greatest_increase = [row[0], net_change]\n",
    "        if net_change < greatest_decrease[1]:\n",
    "            greatest_decrease = [row[0], net_change]\n",
    "\n",
    "# Calculate average change\n",
    "average_change = sum(change_list) / len(change_list) if change_list else 0"
   ]
  },
  {
   "cell_type": "code",
   "execution_count": 81,
   "id": "4f22204f-f53a-4dcc-a448-82b1c88cddfd",
   "metadata": {},
   "outputs": [],
   "source": [
    "# Format the output\n",
    "output = (\n",
    "    f\"Financial Analysis\\n\"\n",
    "    f\"----------------------------\\n\"\n",
    "    f\"Total Months: {total_months}\\n\"\n",
    "    f\"Total: ${total_net}\\n\"\n",
    "    f\"Average Change: ${average_change:.2f}\\n\"\n",
    "    f\"Greatest Increase in Profits: {greatest_increase[0]} (${greatest_increase[1]})\\n\"\n",
    "    f\"Greatest Decrease in Profits: {greatest_decrease[0]} (${greatest_decrease[1]})\\n\")\n",
    "\n"
   ]
  },
  {
   "cell_type": "code",
   "execution_count": 83,
   "id": "14bc5c36-59bc-4125-9d48-890db2f33f2f",
   "metadata": {},
   "outputs": [
    {
     "name": "stdout",
     "output_type": "stream",
     "text": [
      "Financial Analysis\n",
      "----------------------------\n",
      "Total Months: 86\n",
      "Total: $22564198\n",
      "Average Change: $-8311.11\n",
      "Greatest Increase in Profits: Aug-16 ($1862002)\n",
      "Greatest Decrease in Profits: Feb-14 ($-1825558)\n",
      "\n"
     ]
    }
   ],
   "source": [
    "# Print and save the results\n",
    "print(output)\n",
    "with open(file_to_output, 'w') as text_file:\n",
    "    text_file.write(output)"
   ]
  },
  {
   "cell_type": "code",
   "execution_count": null,
   "id": "e4a4d974-e96f-4081-bd3d-2a898fac6890",
   "metadata": {},
   "outputs": [],
   "source": []
  }
 ],
 "metadata": {
  "kernelspec": {
   "display_name": "Python 3 (ipykernel)",
   "language": "python",
   "name": "python3"
  },
  "language_info": {
   "codemirror_mode": {
    "name": "ipython",
    "version": 3
   },
   "file_extension": ".py",
   "mimetype": "text/x-python",
   "name": "python",
   "nbconvert_exporter": "python",
   "pygments_lexer": "ipython3",
   "version": "3.10.14"
  }
 },
 "nbformat": 4,
 "nbformat_minor": 5
}
