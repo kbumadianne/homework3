{
 "cells": [
  {
   "cell_type": "markdown",
   "id": "6f151f18-ed4c-4f4a-8d06-7e1c312d8dfb",
   "metadata": {},
   "source": [
    "#Create a Python script to analyze the finanical records of your company"
   ]
  },
  {
   "cell_type": "code",
   "execution_count": 4,
   "id": "b3a1676b-667b-4f0d-a0fd-b89a97698a68",
   "metadata": {},
   "outputs": [],
   "source": [
    "#Import Dependencies\n",
    "import pandas as pd\n",
    "from pathlib import Path"
   ]
  },
  {
   "cell_type": "code",
   "execution_count": 16,
   "id": "92b216b6-211f-43cd-9f6c-248692b51fbc",
   "metadata": {},
   "outputs": [],
   "source": [
    "#Make a reference to the budget_data.csv\n",
    "csv_path = Path(\"../Resources/budget_data.csv\")"
   ]
  },
  {
   "cell_type": "code",
   "execution_count": 17,
   "id": "644e4134-dd91-4e55-8fe4-5bf4fdb4fc3d",
   "metadata": {},
   "outputs": [
    {
     "data": {
      "text/plain": [
       "WindowsPath('../Resources/budget_data.csv')"
      ]
     },
     "execution_count": 17,
     "metadata": {},
     "output_type": "execute_result"
    }
   ],
   "source": [
    "csv_path"
   ]
  },
  {
   "cell_type": "code",
   "execution_count": 47,
   "id": "fe69bd8c-9dfe-4ae5-abbb-dc7d4ab7005d",
   "metadata": {},
   "outputs": [],
   "source": [
    "# Import the budget_data.csv file as a Dataframe\n",
    "budget_df = pd.read_csv(csv_path, encoding=\"utf-8\")\n"
   ]
  },
  {
   "cell_type": "code",
   "execution_count": 53,
   "id": "958f78eb-5c49-4d64-9fd2-053c5e7f0911",
   "metadata": {},
   "outputs": [
    {
     "data": {
      "text/html": [
       "<div>\n",
       "<style scoped>\n",
       "    .dataframe tbody tr th:only-of-type {\n",
       "        vertical-align: middle;\n",
       "    }\n",
       "\n",
       "    .dataframe tbody tr th {\n",
       "        vertical-align: top;\n",
       "    }\n",
       "\n",
       "    .dataframe thead th {\n",
       "        text-align: right;\n",
       "    }\n",
       "</style>\n",
       "<table border=\"1\" class=\"dataframe\">\n",
       "  <thead>\n",
       "    <tr style=\"text-align: right;\">\n",
       "      <th></th>\n",
       "      <th>Date</th>\n",
       "      <th>Profit/Losses</th>\n",
       "    </tr>\n",
       "  </thead>\n",
       "  <tbody>\n",
       "    <tr>\n",
       "      <th>70</th>\n",
       "      <td>Nov-15</td>\n",
       "      <td>-288531</td>\n",
       "    </tr>\n",
       "    <tr>\n",
       "      <th>35</th>\n",
       "      <td>Dec-12</td>\n",
       "      <td>347138</td>\n",
       "    </tr>\n",
       "    <tr>\n",
       "      <th>78</th>\n",
       "      <td>Jul-16</td>\n",
       "      <td>-910775</td>\n",
       "    </tr>\n",
       "    <tr>\n",
       "      <th>22</th>\n",
       "      <td>Nov-11</td>\n",
       "      <td>1128811</td>\n",
       "    </tr>\n",
       "    <tr>\n",
       "      <th>60</th>\n",
       "      <td>Jan-15</td>\n",
       "      <td>241132</td>\n",
       "    </tr>\n",
       "  </tbody>\n",
       "</table>\n",
       "</div>"
      ],
      "text/plain": [
       "      Date  Profit/Losses\n",
       "70  Nov-15        -288531\n",
       "35  Dec-12         347138\n",
       "78  Jul-16        -910775\n",
       "22  Nov-11        1128811\n",
       "60  Jan-15         241132"
      ]
     },
     "execution_count": 53,
     "metadata": {},
     "output_type": "execute_result"
    }
   ],
   "source": [
    "# Show a sample of the data to make sure it pulled in correcty\n",
    "budget_df.sample(5)"
   ]
  },
  {
   "cell_type": "markdown",
   "id": "d9c3db08-cede-42e4-b9d2-cffb6ca7bc9d",
   "metadata": {},
   "source": [
    "# Financial Analysis"
   ]
  },
  {
   "cell_type": "code",
   "execution_count": 49,
   "id": "a550dfea-dfe0-417d-97e2-bfec18aa4a33",
   "metadata": {},
   "outputs": [
    {
     "data": {
      "text/plain": [
       "Index(['Date', 'Profit/Losses'], dtype='object')"
      ]
     },
     "execution_count": 49,
     "metadata": {},
     "output_type": "execute_result"
    }
   ],
   "source": [
    "# Check the names of the columns in the dataset to ensure correct spelling\n",
    "budget_df.columns"
   ]
  },
  {
   "cell_type": "code",
   "execution_count": 93,
   "id": "a9dcbbaf-f528-4ba3-9fba-e981ea7887be",
   "metadata": {},
   "outputs": [
    {
     "name": "stdout",
     "output_type": "stream",
     "text": [
      "Financial Analysis\n",
      "------------------------------------\n",
      "                                    \n",
      "Total Months: 86\n",
      "Total: $22564198\n",
      "Average Change: $-8311.11\n",
      "Greatest Increase in Profits: Aug-16 ($1862002)\n",
      "Greatest Decrease in Profits: Feb-14 ($-1825558)\n"
     ]
    }
   ],
   "source": [
    "# Add a header to the data analysis\n",
    "print(\"\"\"Financial Analysis\n",
    "------------------------------------\n",
    "                                    \"\"\")\n",
    "# Total number of months included in the dataset - create a variable to hold the count of the Date and print it with Total Months\n",
    "\n",
    "Month = budget_df[\"Date\"].count()\n",
    "print(\"Total Months: \" + str(int(Month)))\n",
    "\n",
    "# The net total amount of \"Profit/Losses\" over the entire period - sum the \"Profit/Losses\" series and then print with \"Total : $\"\n",
    "\n",
    "totalPL = budget_df[\"Profit/Losses\"].sum()\n",
    "print(\"Total: $\" + (str(int(totalPL))))\n",
    "\n",
    "# The changes in \"Profit/Losses\" over the entire period, and then the average of those changes\n",
    "      #Need to create a new column in the dataset to add Change.  Calculate the change with \"diff\" \n",
    "profitLossChange = budget_df[\"Profit/Losses\"].diff()\n",
    "budget_df[\"Profit/Losses Change\"] = profitLossChange\n",
    "\n",
    "    #Average the new column to find the average of all changes\n",
    "changeAverage = budget_df[\"Profit/Losses Change\"].mean()\n",
    "print(f\"Average Change: ${changeAverage:.2f}\")\n",
    "\n",
    "# The greatest increase in profits (date and amount) over the entire period\n",
    "\n",
    "maxIncrease = budget_df[\"Profit/Losses Change\"].max()\n",
    "maxIncreaseDate = budget_df.loc[budget_df[\"Profit/Losses Change\"].idxmax(),\"Date\"]\n",
    "print(f\"Greatest Increase in Profits: {maxIncreaseDate} (${maxIncrease:.0f})\")\n",
    "\n",
    "# The greatest decrease in profits (date and amount) over the entire period\n",
    "\n",
    "maxDecrease = budget_df[\"Profit/Losses Change\"].min()\n",
    "maxDecreaseDate = budget_df.loc[budget_df[\"Profit/Losses Change\"].idxmin(),\"Date\"]\n",
    "print(f\"Greatest Decrease in Profits: {maxDecreaseDate} (${maxDecrease:.0f})\")"
   ]
  },
  {
   "cell_type": "code",
   "execution_count": null,
   "id": "cb1a7ba0-f931-4b78-b911-4cc17ead0018",
   "metadata": {},
   "outputs": [],
   "source": []
  },
  {
   "cell_type": "code",
   "execution_count": null,
   "id": "c2f46ff4-71c7-44c8-9705-b4bc24d8ea9b",
   "metadata": {},
   "outputs": [],
   "source": []
  },
  {
   "cell_type": "code",
   "execution_count": null,
   "id": "dd06e1e9-f2f5-46e5-a7c6-86db4cf1dc73",
   "metadata": {},
   "outputs": [],
   "source": []
  },
  {
   "cell_type": "code",
   "execution_count": null,
   "id": "1adf120b-c039-4e37-8935-faa19ae3f2a2",
   "metadata": {},
   "outputs": [],
   "source": []
  }
 ],
 "metadata": {
  "kernelspec": {
   "display_name": "Python 3 (ipykernel)",
   "language": "python",
   "name": "python3"
  },
  "language_info": {
   "codemirror_mode": {
    "name": "ipython",
    "version": 3
   },
   "file_extension": ".py",
   "mimetype": "text/x-python",
   "name": "python",
   "nbconvert_exporter": "python",
   "pygments_lexer": "ipython3",
   "version": "3.10.14"
  }
 },
 "nbformat": 4,
 "nbformat_minor": 5
}
