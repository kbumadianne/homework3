{
 "cells": [
  {
   "cell_type": "markdown",
   "id": "292118d9-553c-4603-ad31-aa508e707848",
   "metadata": {},
   "source": [
    "#In this Challenge, you are tasked with helping a small, rural town modernize its vote-counting process"
   ]
  },
  {
   "cell_type": "code",
   "execution_count": 1,
   "id": "bea03d9a-1f97-4cec-94f6-3ac92f1810bc",
   "metadata": {},
   "outputs": [],
   "source": [
    "#Import Dependencies\n",
    "import pandas as pd\n",
    "from pathlib import Path"
   ]
  },
  {
   "cell_type": "code",
   "execution_count": 2,
   "id": "988098b2-f1e8-4d6b-a23d-67be686b2dfa",
   "metadata": {},
   "outputs": [],
   "source": [
    "#Make a reference to the election_data.csv\n",
    "csv_path = Path(\"../Resources/election_data.csv\")"
   ]
  },
  {
   "cell_type": "code",
   "execution_count": 3,
   "id": "24c8783b-7932-43f7-a96b-109ccde4194a",
   "metadata": {},
   "outputs": [],
   "source": [
    "# Import the election_data.csv file as a Dataframe\n",
    "election_df = pd.read_csv(csv_path, encoding=\"utf-8\")"
   ]
  },
  {
   "cell_type": "code",
   "execution_count": 4,
   "id": "fbdf7e80-449e-4d37-8adb-f456a0a65682",
   "metadata": {},
   "outputs": [
    {
     "data": {
      "text/html": [
       "<div>\n",
       "<style scoped>\n",
       "    .dataframe tbody tr th:only-of-type {\n",
       "        vertical-align: middle;\n",
       "    }\n",
       "\n",
       "    .dataframe tbody tr th {\n",
       "        vertical-align: top;\n",
       "    }\n",
       "\n",
       "    .dataframe thead th {\n",
       "        text-align: right;\n",
       "    }\n",
       "</style>\n",
       "<table border=\"1\" class=\"dataframe\">\n",
       "  <thead>\n",
       "    <tr style=\"text-align: right;\">\n",
       "      <th></th>\n",
       "      <th>Ballot ID</th>\n",
       "      <th>County</th>\n",
       "      <th>Candidate</th>\n",
       "    </tr>\n",
       "  </thead>\n",
       "  <tbody>\n",
       "    <tr>\n",
       "      <th>306829</th>\n",
       "      <td>5625454</td>\n",
       "      <td>Denver</td>\n",
       "      <td>Diana DeGette</td>\n",
       "    </tr>\n",
       "    <tr>\n",
       "      <th>265028</th>\n",
       "      <td>6505387</td>\n",
       "      <td>Denver</td>\n",
       "      <td>Diana DeGette</td>\n",
       "    </tr>\n",
       "    <tr>\n",
       "      <th>255657</th>\n",
       "      <td>7747284</td>\n",
       "      <td>Denver</td>\n",
       "      <td>Diana DeGette</td>\n",
       "    </tr>\n",
       "    <tr>\n",
       "      <th>129523</th>\n",
       "      <td>5297040</td>\n",
       "      <td>Denver</td>\n",
       "      <td>Diana DeGette</td>\n",
       "    </tr>\n",
       "    <tr>\n",
       "      <th>215009</th>\n",
       "      <td>5011382</td>\n",
       "      <td>Denver</td>\n",
       "      <td>Diana DeGette</td>\n",
       "    </tr>\n",
       "  </tbody>\n",
       "</table>\n",
       "</div>"
      ],
      "text/plain": [
       "        Ballot ID  County      Candidate\n",
       "306829    5625454  Denver  Diana DeGette\n",
       "265028    6505387  Denver  Diana DeGette\n",
       "255657    7747284  Denver  Diana DeGette\n",
       "129523    5297040  Denver  Diana DeGette\n",
       "215009    5011382  Denver  Diana DeGette"
      ]
     },
     "execution_count": 4,
     "metadata": {},
     "output_type": "execute_result"
    }
   ],
   "source": [
    "# Show a sample of the data to make sure it pulled in correcty\n",
    "election_df.sample(5)"
   ]
  },
  {
   "cell_type": "code",
   "execution_count": 5,
   "id": "b59e637a-75cf-469a-aba0-c13e30ad91d4",
   "metadata": {},
   "outputs": [
    {
     "data": {
      "text/plain": [
       "Index(['Ballot ID', 'County', 'Candidate'], dtype='object')"
      ]
     },
     "execution_count": 5,
     "metadata": {},
     "output_type": "execute_result"
    }
   ],
   "source": [
    "# Check the names of the columns in the dataset to ensure correct spelling\n",
    "election_df.columns"
   ]
  },
  {
   "cell_type": "markdown",
   "id": "a5c2a9e8-e6c9-4e8a-9b44-a6d7bd55838e",
   "metadata": {},
   "source": [
    "Election Data Analysis"
   ]
  },
  {
   "cell_type": "code",
   "execution_count": 6,
   "id": "aefda3a3-aac5-4767-91d1-095c5604b7c1",
   "metadata": {},
   "outputs": [
    {
     "data": {
      "text/plain": [
       "369711"
      ]
     },
     "execution_count": 6,
     "metadata": {},
     "output_type": "execute_result"
    }
   ],
   "source": [
    "# Use the length function to create a vote count variable to store the total amount of votes\n",
    "vote_count = len(election_df)\n",
    "vote_count"
   ]
  },
  {
   "cell_type": "code",
   "execution_count": 8,
   "id": "04f8aa1d-2970-4e16-8399-47b7760d59aa",
   "metadata": {},
   "outputs": [
    {
     "data": {
      "text/html": [
       "<div>\n",
       "<style scoped>\n",
       "    .dataframe tbody tr th:only-of-type {\n",
       "        vertical-align: middle;\n",
       "    }\n",
       "\n",
       "    .dataframe tbody tr th {\n",
       "        vertical-align: top;\n",
       "    }\n",
       "\n",
       "    .dataframe thead th {\n",
       "        text-align: right;\n",
       "    }\n",
       "</style>\n",
       "<table border=\"1\" class=\"dataframe\">\n",
       "  <thead>\n",
       "    <tr style=\"text-align: right;\">\n",
       "      <th></th>\n",
       "      <th>Ballot ID</th>\n",
       "      <th>County</th>\n",
       "      <th>Candidate</th>\n",
       "      <th>Vote Counts</th>\n",
       "    </tr>\n",
       "  </thead>\n",
       "  <tbody>\n",
       "    <tr>\n",
       "      <th>65468</th>\n",
       "      <td>2255975</td>\n",
       "      <td>Denver</td>\n",
       "      <td>Charles Casper Stockham</td>\n",
       "      <td>1</td>\n",
       "    </tr>\n",
       "    <tr>\n",
       "      <th>276143</th>\n",
       "      <td>5123518</td>\n",
       "      <td>Denver</td>\n",
       "      <td>Diana DeGette</td>\n",
       "      <td>1</td>\n",
       "    </tr>\n",
       "    <tr>\n",
       "      <th>329426</th>\n",
       "      <td>6407207</td>\n",
       "      <td>Denver</td>\n",
       "      <td>Diana DeGette</td>\n",
       "      <td>1</td>\n",
       "    </tr>\n",
       "    <tr>\n",
       "      <th>1527</th>\n",
       "      <td>1226109</td>\n",
       "      <td>Jefferson</td>\n",
       "      <td>Charles Casper Stockham</td>\n",
       "      <td>1</td>\n",
       "    </tr>\n",
       "    <tr>\n",
       "      <th>54760</th>\n",
       "      <td>2945673</td>\n",
       "      <td>Denver</td>\n",
       "      <td>Charles Casper Stockham</td>\n",
       "      <td>1</td>\n",
       "    </tr>\n",
       "  </tbody>\n",
       "</table>\n",
       "</div>"
      ],
      "text/plain": [
       "        Ballot ID     County                Candidate  Vote Counts\n",
       "65468     2255975     Denver  Charles Casper Stockham            1\n",
       "276143    5123518     Denver            Diana DeGette            1\n",
       "329426    6407207     Denver            Diana DeGette            1\n",
       "1527      1226109  Jefferson  Charles Casper Stockham            1\n",
       "54760     2945673     Denver  Charles Casper Stockham            1"
      ]
     },
     "execution_count": 8,
     "metadata": {},
     "output_type": "execute_result"
    }
   ],
   "source": [
    "# Create a Vote Count Column to be able to do Sum and % Total Calculations off of\n",
    "election_df[\"Vote Counts\"] = 1\n",
    "\n",
    "election_df.sample(5)"
   ]
  },
  {
   "cell_type": "code",
   "execution_count": 10,
   "id": "d09c08f5-3e10-409d-a726-da43003c4a3c",
   "metadata": {},
   "outputs": [
    {
     "data": {
      "text/plain": [
       "Candidate\n",
       "Diana DeGette              272892\n",
       "Charles Casper Stockham     85213\n",
       "Raymon Anthony Doane        11606\n",
       "Name: count, dtype: int64"
      ]
     },
     "execution_count": 10,
     "metadata": {},
     "output_type": "execute_result"
    }
   ],
   "source": [
    "# Count the number of votes per candidate\n",
    "candidate_votes = election_df[\"Candidate\"].value_counts()\n",
    "candidate_votes"
   ]
  },
  {
   "cell_type": "code",
   "execution_count": 13,
   "id": "0ef8e10d-f798-4fee-8cbd-faaf67412189",
   "metadata": {},
   "outputs": [
    {
     "data": {
      "text/plain": [
       "Candidate\n",
       "Diana DeGette              73.812248\n",
       "Charles Casper Stockham    23.048543\n",
       "Raymon Anthony Doane        3.139209\n",
       "Name: count, dtype: float64"
      ]
     },
     "execution_count": 13,
     "metadata": {},
     "output_type": "execute_result"
    }
   ],
   "source": [
    "# Calculate the percentage of votes each candidate received\n",
    "percentage_votes = (candidate_votes / vote_count) * 100\n",
    "percentage_votes"
   ]
  },
  {
   "cell_type": "code",
   "execution_count": 22,
   "id": "66ee0ed0-9929-47f9-8768-e4da634654fb",
   "metadata": {},
   "outputs": [
    {
     "name": "stdout",
     "output_type": "stream",
     "text": [
      "Election Results\n",
      "\n",
      "---------------------------------------\n",
      "                                        \n",
      "Total Votes: 369711\n",
      "\n",
      "---------------------------------------\n",
      "                                        \n",
      "Diana DeGette: 73.812% (272892)\n",
      "Charles Casper Stockham: 23.049% (85213)\n",
      "Raymon Anthony Doane: 3.139% (11606)\n",
      "\n",
      "---------------------------------------\n",
      "                                        \n",
      "Winner: Diana DeGette\n",
      "\n",
      "---------------------------------------\n"
     ]
    }
   ],
   "source": [
    "# Create a dictionary to store the percentage of votes for each candidate\n",
    "results_dict = {}\n",
    "for candidate in candidate_votes.index:\n",
    "    results_dict[candidate] = f\"{percentage_votes[candidate]:.3f}% ({candidate_votes[candidate]})\"\n",
    "\n",
    "# Determine the winner based on the maximum number of votes\n",
    "winner = candidate_votes.idxmax()\n",
    "\n",
    "# Print the total results, add rows and formatting inbetween results\n",
    "print(\"\"\"Election Results\n",
    "\n",
    "---------------------------------------\n",
    "                                        \"\"\")\n",
    "\n",
    "print(f\"Total Votes: {vote_count}\")\n",
    "print(\"\"\"\n",
    "---------------------------------------\n",
    "                                        \"\"\")\n",
    "for candidate, percentage in results_dict.items():\n",
    "    print(f\"{candidate}: {percentage}\")\n",
    "print(\"\"\"\n",
    "---------------------------------------\n",
    "                                        \"\"\")\n",
    "print(f\"Winner: {winner}\")\n",
    "print(\"\"\"\n",
    "---------------------------------------\"\"\")"
   ]
  },
  {
   "cell_type": "code",
   "execution_count": null,
   "id": "c9f4a7cf-f2c1-4fc2-b340-91b7b74b33c0",
   "metadata": {},
   "outputs": [],
   "source": []
  }
 ],
 "metadata": {
  "kernelspec": {
   "display_name": "Python 3 (ipykernel)",
   "language": "python",
   "name": "python3"
  },
  "language_info": {
   "codemirror_mode": {
    "name": "ipython",
    "version": 3
   },
   "file_extension": ".py",
   "mimetype": "text/x-python",
   "name": "python",
   "nbconvert_exporter": "python",
   "pygments_lexer": "ipython3",
   "version": "3.10.14"
  }
 },
 "nbformat": 4,
 "nbformat_minor": 5
}
