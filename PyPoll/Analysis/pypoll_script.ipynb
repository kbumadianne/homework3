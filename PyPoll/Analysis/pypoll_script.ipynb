{
 "cells": [
  {
   "cell_type": "markdown",
   "id": "86627645-7e7d-4798-9b8a-4ca93ea3e731",
   "metadata": {},
   "source": [
    "#In this Challenge, you are tasked with helping a small, rural town modernize its vote-counting process"
   ]
  },
  {
   "cell_type": "code",
   "execution_count": 38,
   "id": "a529eb5f-e8bc-4bce-9bb7-c605b3982ed5",
   "metadata": {},
   "outputs": [],
   "source": [
    "#Import Dependencies\n",
    "import pandas as pd\n",
    "from pathlib import Path"
   ]
  },
  {
   "cell_type": "code",
   "execution_count": 39,
   "id": "2bd671d7-5df1-4d46-8f2a-eda67653701e",
   "metadata": {},
   "outputs": [],
   "source": [
    "#Make a reference to the election_data.csv\n",
    "csv_path = Path(\"../Resources/election_data.csv\")"
   ]
  },
  {
   "cell_type": "code",
   "execution_count": 40,
   "id": "6eb60fe2-7a87-47da-bad7-550a0c5fd2da",
   "metadata": {},
   "outputs": [],
   "source": [
    "# Import the election_data.csv file as a Dataframe\n",
    "election_df = pd.read_csv(csv_path, encoding=\"utf-8\")"
   ]
  },
  {
   "cell_type": "code",
   "execution_count": 41,
   "id": "766e9ff5-6bad-4752-836a-3ea39e599a81",
   "metadata": {},
   "outputs": [
    {
     "data": {
      "text/html": [
       "<div>\n",
       "<style scoped>\n",
       "    .dataframe tbody tr th:only-of-type {\n",
       "        vertical-align: middle;\n",
       "    }\n",
       "\n",
       "    .dataframe tbody tr th {\n",
       "        vertical-align: top;\n",
       "    }\n",
       "\n",
       "    .dataframe thead th {\n",
       "        text-align: right;\n",
       "    }\n",
       "</style>\n",
       "<table border=\"1\" class=\"dataframe\">\n",
       "  <thead>\n",
       "    <tr style=\"text-align: right;\">\n",
       "      <th></th>\n",
       "      <th>Ballot ID</th>\n",
       "      <th>County</th>\n",
       "      <th>Candidate</th>\n",
       "    </tr>\n",
       "  </thead>\n",
       "  <tbody>\n",
       "    <tr>\n",
       "      <th>217527</th>\n",
       "      <td>5669791</td>\n",
       "      <td>Denver</td>\n",
       "      <td>Diana DeGette</td>\n",
       "    </tr>\n",
       "    <tr>\n",
       "      <th>79767</th>\n",
       "      <td>2802077</td>\n",
       "      <td>Denver</td>\n",
       "      <td>Charles Casper Stockham</td>\n",
       "    </tr>\n",
       "    <tr>\n",
       "      <th>102694</th>\n",
       "      <td>5302460</td>\n",
       "      <td>Denver</td>\n",
       "      <td>Diana DeGette</td>\n",
       "    </tr>\n",
       "    <tr>\n",
       "      <th>257724</th>\n",
       "      <td>6955084</td>\n",
       "      <td>Denver</td>\n",
       "      <td>Diana DeGette</td>\n",
       "    </tr>\n",
       "    <tr>\n",
       "      <th>152335</th>\n",
       "      <td>5135266</td>\n",
       "      <td>Denver</td>\n",
       "      <td>Diana DeGette</td>\n",
       "    </tr>\n",
       "  </tbody>\n",
       "</table>\n",
       "</div>"
      ],
      "text/plain": [
       "        Ballot ID  County                Candidate\n",
       "217527    5669791  Denver            Diana DeGette\n",
       "79767     2802077  Denver  Charles Casper Stockham\n",
       "102694    5302460  Denver            Diana DeGette\n",
       "257724    6955084  Denver            Diana DeGette\n",
       "152335    5135266  Denver            Diana DeGette"
      ]
     },
     "execution_count": 41,
     "metadata": {},
     "output_type": "execute_result"
    }
   ],
   "source": [
    "# Show a sample of the data to make sure it pulled in correcty\n",
    "election_df.sample(5)"
   ]
  },
  {
   "cell_type": "code",
   "execution_count": 42,
   "id": "908b72ad-b64d-407d-8c3c-fe65810f902f",
   "metadata": {},
   "outputs": [
    {
     "data": {
      "text/plain": [
       "Index(['Ballot ID', 'County', 'Candidate'], dtype='object')"
      ]
     },
     "execution_count": 42,
     "metadata": {},
     "output_type": "execute_result"
    }
   ],
   "source": [
    "# Check the names of the columns in the dataset to ensure correct spelling\n",
    "election_df.columns"
   ]
  },
  {
   "cell_type": "markdown",
   "id": "b50a4964-f3c9-4fdc-a9f8-08c6b1c9ef02",
   "metadata": {},
   "source": [
    "Election Data Analysis"
   ]
  },
  {
   "cell_type": "code",
   "execution_count": 43,
   "id": "6bd4a8d0-ccb7-4e20-8fa2-3fd88aa90075",
   "metadata": {},
   "outputs": [],
   "source": [
    "# use the count function on the series \"Ballot ID\" to count the total number of votes\n",
    "\n",
    "totalVotes = election_df[\"Ballot ID\"].count()"
   ]
  },
  {
   "cell_type": "code",
   "execution_count": 44,
   "id": "c2771ca5-715b-48c7-8e5a-16e5feaa6bf0",
   "metadata": {},
   "outputs": [
    {
     "name": "stdout",
     "output_type": "stream",
     "text": [
      "Total Votes: 369711\n"
     ]
    }
   ],
   "source": [
    "print(\"Total Votes: \" + (str(int(totalVotes))))"
   ]
  },
  {
   "cell_type": "code",
   "execution_count": 52,
   "id": "c7a31ebd-d3c6-4284-a963-9523c165e6c1",
   "metadata": {},
   "outputs": [
    {
     "name": "stdout",
     "output_type": "stream",
     "text": [
      "{'Charles Casper Stockham': [], 'Diana DeGette': [], 'Raymon Anthony Doane': []}\n"
     ]
    }
   ],
   "source": [
    "# Use unique function on the \"Candidate\" series to create a unique candidate variable and store this as a dictionary, this will return all candidates on the ballot\n",
    "\n",
    "unique_candidates = election_df[\"Candidate\"].unique()\n",
    "candidate_dict = {candidate: [] for candidate in unique_candidates}\n",
    "print(candidate_dict)"
   ]
  },
  {
   "cell_type": "code",
   "execution_count": 117,
   "id": "4deadd77-a471-4a4b-860a-fb2a84dadcc3",
   "metadata": {},
   "outputs": [],
   "source": [
    "# Create a Vote Count Column to be able to do Sum and % Total Calculations off of\n",
    "#vote_count = election_df[\"Candidate\"].apply(lambda x:1)\n",
    "#add the new series Vote Count into the dataframe\n",
    "#election_df[\"Vote Counts\"] = vote_count\n",
    "#election_df.head()\n",
    "\n"
   ]
  },
  {
   "cell_type": "code",
   "execution_count": 118,
   "id": "a4825b91-bfdf-431c-b66b-d1bba5ce45fc",
   "metadata": {},
   "outputs": [
    {
     "data": {
      "text/plain": [
       "369711"
      ]
     },
     "execution_count": 118,
     "metadata": {},
     "output_type": "execute_result"
    }
   ],
   "source": [
    "vote_count = len(election_df)\n",
    "vote_count"
   ]
  },
  {
   "cell_type": "code",
   "execution_count": 119,
   "id": "37ff5d20-e7ef-41e8-a1d9-d9b6dc448d9e",
   "metadata": {},
   "outputs": [
    {
     "data": {
      "text/plain": [
       "369711"
      ]
     },
     "execution_count": 119,
     "metadata": {},
     "output_type": "execute_result"
    }
   ],
   "source": [
    "# Need to sum up the counts by candidate and find the total % for each candidate - add to dictionary?\n",
    "candidate_vote_count = election_df[\"Vote Counts\"].sum().astype(int)\n",
    "candidate_vote_count"
   ]
  },
  {
   "cell_type": "code",
   "execution_count": 120,
   "id": "8ffb7681-40c5-4da9-b949-46f0ca3a2e61",
   "metadata": {},
   "outputs": [],
   "source": [
    "# Count the number of times a candidate's name is listed to get total counts per candidate\n",
    "candidate_count = election_df[\"Candidate\"].value_counts().astype(int)"
   ]
  },
  {
   "cell_type": "code",
   "execution_count": 121,
   "id": "eaecd1cb-3a8d-4a21-bc5d-bed1b94f1273",
   "metadata": {},
   "outputs": [
    {
     "data": {
      "text/plain": [
       "Candidate\n",
       "Diana DeGette              272892\n",
       "Charles Casper Stockham     85213\n",
       "Raymon Anthony Doane        11606\n",
       "Name: count, dtype: int32"
      ]
     },
     "execution_count": 121,
     "metadata": {},
     "output_type": "execute_result"
    }
   ],
   "source": [
    "candidate_count"
   ]
  },
  {
   "cell_type": "code",
   "execution_count": 122,
   "id": "fa16dab9-50b3-43a3-9a8c-dd9ced3d447d",
   "metadata": {},
   "outputs": [
    {
     "data": {
      "text/plain": [
       "Candidate\n",
       "Diana DeGette              73.812248\n",
       "Charles Casper Stockham    23.048543\n",
       "Raymon Anthony Doane        3.139209\n",
       "Name: count, dtype: float64"
      ]
     },
     "execution_count": 122,
     "metadata": {},
     "output_type": "execute_result"
    }
   ],
   "source": [
    "percentage_votes = candidate_count / vote_count*100\n",
    "percentage_votes"
   ]
  },
  {
   "cell_type": "code",
   "execution_count": 123,
   "id": "186e6cf7-845e-49fe-a43e-675761c12bbc",
   "metadata": {},
   "outputs": [
    {
     "ename": "AttributeError",
     "evalue": "'int' object has no attribute 'index'",
     "output_type": "error",
     "traceback": [
      "\u001b[1;31m---------------------------------------------------------------------------\u001b[0m",
      "\u001b[1;31mAttributeError\u001b[0m                            Traceback (most recent call last)",
      "Cell \u001b[1;32mIn[123], line 3\u001b[0m\n\u001b[0;32m      1\u001b[0m \u001b[38;5;66;03m# Create a dictionary to store the percentage of votes for each candidate\u001b[39;00m\n\u001b[0;32m      2\u001b[0m results_dict \u001b[38;5;241m=\u001b[39m {}\n\u001b[1;32m----> 3\u001b[0m \u001b[38;5;28;01mfor\u001b[39;00m candidate \u001b[38;5;129;01min\u001b[39;00m \u001b[43mvote_count\u001b[49m\u001b[38;5;241;43m.\u001b[39;49m\u001b[43mindex\u001b[49m:\n\u001b[0;32m      4\u001b[0m     results_dict[candidate] \u001b[38;5;241m=\u001b[39m \u001b[38;5;124mf\u001b[39m\u001b[38;5;124m\"\u001b[39m\u001b[38;5;132;01m{\u001b[39;00mpercentage_votes[candidate]\u001b[38;5;132;01m:\u001b[39;00m\u001b[38;5;124m.3f\u001b[39m\u001b[38;5;132;01m}\u001b[39;00m\u001b[38;5;124m% (\u001b[39m\u001b[38;5;132;01m{\u001b[39;00mvote_count[candidate]\u001b[38;5;132;01m}\u001b[39;00m\u001b[38;5;124m)\u001b[39m\u001b[38;5;124m\"\u001b[39m\n\u001b[0;32m      6\u001b[0m \u001b[38;5;66;03m# Print the results\u001b[39;00m\n",
      "\u001b[1;31mAttributeError\u001b[0m: 'int' object has no attribute 'index'"
     ]
    }
   ],
   "source": [
    "# Create a dictionary to store the percentage of votes for each candidate\n",
    "results_dict = {}\n",
    "for candidate in vote_count.index:\n",
    "    results_dict[candidate] = f\"{percentage_votes[candidate]:.3f}% ({vote_count[candidate]})\"\n",
    "\n",
    "# Print the results\n",
    "for candidate, percentage in results_dict.items():\n",
    "    print(f\"{candidate}: {percentage}\")"
   ]
  },
  {
   "cell_type": "code",
   "execution_count": 102,
   "id": "51245d98-5d49-41f6-aad7-d23d1003f2c7",
   "metadata": {},
   "outputs": [
    {
     "data": {
      "text/plain": [
       "[{'Charles Casper Stockham': [],\n",
       "  'Diana DeGette': [],\n",
       "  'Raymon Anthony Doane': []},\n",
       " {'vote': []},\n",
       " {'total': []}]"
      ]
     },
     "execution_count": 102,
     "metadata": {},
     "output_type": "execute_result"
    }
   ],
   "source": [
    "candidate_full_dict"
   ]
  },
  {
   "cell_type": "code",
   "execution_count": null,
   "id": "3bd1a9c2-5b17-4a7d-8b06-99d0eeadcc08",
   "metadata": {},
   "outputs": [],
   "source": []
  }
 ],
 "metadata": {
  "kernelspec": {
   "display_name": "Python 3 (ipykernel)",
   "language": "python",
   "name": "python3"
  },
  "language_info": {
   "codemirror_mode": {
    "name": "ipython",
    "version": 3
   },
   "file_extension": ".py",
   "mimetype": "text/x-python",
   "name": "python",
   "nbconvert_exporter": "python",
   "pygments_lexer": "ipython3",
   "version": "3.10.14"
  }
 },
 "nbformat": 4,
 "nbformat_minor": 5
}
