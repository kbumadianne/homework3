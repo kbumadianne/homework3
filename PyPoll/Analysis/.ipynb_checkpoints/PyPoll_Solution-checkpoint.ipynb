{
 "cells": [
  {
   "cell_type": "markdown",
   "id": "b8357966-ded2-4661-a810-722252224507",
   "metadata": {},
   "source": [
    "\n",
    "#In this Challenge, you are tasked with helping a small, rural town modernize its vote-counting process"
   ]
  },
  {
   "cell_type": "code",
   "execution_count": 14,
   "id": "306677d2-1fe0-45c2-8946-a58d48849257",
   "metadata": {},
   "outputs": [],
   "source": [
    "#Set up import and export files for data and analysis results"
   ]
  },
  {
   "cell_type": "code",
   "execution_count": 15,
   "id": "5b2fc0c0-2e77-4a51-9a18-11731921e70f",
   "metadata": {},
   "outputs": [],
   "source": [
    "#Import Dependencies\n",
    "import csv\n",
    "import os"
   ]
  },
  {
   "cell_type": "code",
   "execution_count": 16,
   "id": "04ecd8ad-6cbf-4e7c-9fc3-6fce4b639cd7",
   "metadata": {},
   "outputs": [
    {
     "data": {
      "text/plain": [
       "'..\\\\Resources\\\\election_data.csv'"
      ]
     },
     "execution_count": 16,
     "metadata": {},
     "output_type": "execute_result"
    }
   ],
   "source": [
    "#Make a reference to the election_data.csv\n",
    "file_to_load = os.path.join(\"..\",\"Resources\",\"election_data.csv\")\n",
    "file_to_load"
   ]
  },
  {
   "cell_type": "code",
   "execution_count": 17,
   "id": "c0a79098-4ce3-439a-bf91-ec96230279df",
   "metadata": {},
   "outputs": [
    {
     "data": {
      "text/plain": [
       "'..\\\\Analysis\\\\pypoll_analysis.txt'"
      ]
     },
     "execution_count": 17,
     "metadata": {},
     "output_type": "execute_result"
    }
   ],
   "source": [
    "#Make a reference to the export file\n",
    "file_to_save = os.path.join(\"..\",\"Analysis\",\"pypoll_analysis.txt\")\n",
    "file_to_save"
   ]
  },
  {
   "cell_type": "markdown",
   "id": "4c2479a9-7f53-4cbb-a871-68744d01d76d",
   "metadata": {},
   "source": [
    "Election Data Analysis"
   ]
  },
  {
   "cell_type": "code",
   "execution_count": 18,
   "id": "43b07829-cdc1-4e49-9be2-3e3b72cbea50",
   "metadata": {},
   "outputs": [],
   "source": [
    "# Set the variables\n",
    "total_votes = 0\n",
    "candidates = {}"
   ]
  },
  {
   "cell_type": "code",
   "execution_count": 19,
   "id": "4ad3456d-5890-4c60-9b73-1ff76440350b",
   "metadata": {},
   "outputs": [],
   "source": [
    "#Open and read the CSV file\n",
    "with open(file_to_load, mode='r') as election_data:\n",
    "    csv_reader=csv.DictReader(election_data)\n",
    "\n",
    "    # Process each row in the csv\n",
    "    for row in csv_reader:\n",
    "        total_votes += 1\n",
    "        candidate = row['Candidate']\n",
    "\n",
    "        if candidate in candidates:\n",
    "            candidates[candidate] +=1\n",
    "        else:\n",
    "            candidates[candidate] = 1\n"
   ]
  },
  {
   "cell_type": "code",
   "execution_count": 20,
   "id": "52564bef-cb00-47e1-a888-7f8b3dcb6c5f",
   "metadata": {},
   "outputs": [],
   "source": [
    "# Calculate the percentage of total votes, announce a winner and store results in a list for each candidate\n",
    "winner = \"\"\n",
    "max_votes = 0\n",
    "candidate_results = []\n",
    "\n",
    "for candidate, votes in candidates.items():\n",
    "    percentage = (votes / total_votes)*100\n",
    "    candidate_results.append(f\"{candidate}: {percentage:.3f}% ({votes})\")\n",
    "\n",
    "    if votes > max_votes:\n",
    "        max_votes = votes\n",
    "        winner = candidate"
   ]
  },
  {
   "cell_type": "code",
   "execution_count": 21,
   "id": "8b4d5476-78be-4b38-ad85-6eb9ac6613a0",
   "metadata": {},
   "outputs": [
    {
     "name": "stdout",
     "output_type": "stream",
     "text": [
      "Election Results\n",
      "-------------------------\n",
      "Total Votes: 369711\n",
      "-------------------------\n",
      "Charles Casper Stockham: 23.049% (85213)\n",
      "Diana DeGette: 73.812% (272892)\n",
      "Raymon Anthony Doane: 3.139% (11606)\n",
      "-------------------------\n",
      "Winner: Diana DeGette\n",
      "-------------------------\n",
      "\n"
     ]
    }
   ],
   "source": [
    "#store election results in a variable to call and print\n",
    "\n",
    "election_results = (\n",
    "    f\"Election Results\\n\"\n",
    "    f\"-------------------------\\n\"\n",
    "    f\"Total Votes: {total_votes}\\n\"\n",
    "    f\"-------------------------\\n\"  \n",
    "    f\"{candidate_results[0]}\\n\"\n",
    "    f\"{candidate_results[1]}\\n\"\n",
    "    f\"{candidate_results[2]}\\n\"\n",
    "    f\"-------------------------\\n\"\n",
    "    f\"Winner: {winner}\\n\"\n",
    "    f\"-------------------------\\n\")\n",
    "    \n",
    "print(election_results)"
   ]
  },
  {
   "cell_type": "code",
   "execution_count": 10,
   "id": "6e89e165-bf72-4023-b9e0-754f3632cb86",
   "metadata": {},
   "outputs": [],
   "source": [
    "# Write the results to a text file\n",
    "with open(file_to_save, mode='w') as file:\n",
    "    file.write(election_results)\n"
   ]
  },
  {
   "cell_type": "code",
   "execution_count": null,
   "id": "62564e4b-6ac1-48c7-89ec-2cc32eda98d8",
   "metadata": {},
   "outputs": [],
   "source": []
  }
 ],
 "metadata": {
  "kernelspec": {
   "display_name": "Python 3 (ipykernel)",
   "language": "python",
   "name": "python3"
  },
  "language_info": {
   "codemirror_mode": {
    "name": "ipython",
    "version": 3
   },
   "file_extension": ".py",
   "mimetype": "text/x-python",
   "name": "python",
   "nbconvert_exporter": "python",
   "pygments_lexer": "ipython3",
   "version": "3.10.14"
  }
 },
 "nbformat": 4,
 "nbformat_minor": 5
}
