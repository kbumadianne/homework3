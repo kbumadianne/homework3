{
 "cells": [
  {
   "cell_type": "markdown",
   "id": "86627645-7e7d-4798-9b8a-4ca93ea3e731",
   "metadata": {},
   "source": [
    "#In this Challenge, you are tasked with helping a small, rural town modernize its vote-counting process"
   ]
  },
  {
   "cell_type": "code",
   "execution_count": 38,
   "id": "a529eb5f-e8bc-4bce-9bb7-c605b3982ed5",
   "metadata": {},
   "outputs": [],
   "source": [
    "#Import Dependencies\n",
    "import pandas as pd\n",
    "from pathlib import Path"
   ]
  },
  {
   "cell_type": "code",
   "execution_count": 39,
   "id": "2bd671d7-5df1-4d46-8f2a-eda67653701e",
   "metadata": {},
   "outputs": [],
   "source": [
    "#Make a reference to the election_data.csv\n",
    "csv_path = Path(\"../Resources/election_data.csv\")"
   ]
  },
  {
   "cell_type": "code",
   "execution_count": 40,
   "id": "6eb60fe2-7a87-47da-bad7-550a0c5fd2da",
   "metadata": {},
   "outputs": [],
   "source": [
    "# Import the election_data.csv file as a Dataframe\n",
    "election_df = pd.read_csv(csv_path, encoding=\"utf-8\")"
   ]
  },
  {
   "cell_type": "code",
   "execution_count": 41,
   "id": "766e9ff5-6bad-4752-836a-3ea39e599a81",
   "metadata": {},
   "outputs": [
    {
     "data": {
      "text/html": [
       "<div>\n",
       "<style scoped>\n",
       "    .dataframe tbody tr th:only-of-type {\n",
       "        vertical-align: middle;\n",
       "    }\n",
       "\n",
       "    .dataframe tbody tr th {\n",
       "        vertical-align: top;\n",
       "    }\n",
       "\n",
       "    .dataframe thead th {\n",
       "        text-align: right;\n",
       "    }\n",
       "</style>\n",
       "<table border=\"1\" class=\"dataframe\">\n",
       "  <thead>\n",
       "    <tr style=\"text-align: right;\">\n",
       "      <th></th>\n",
       "      <th>Ballot ID</th>\n",
       "      <th>County</th>\n",
       "      <th>Candidate</th>\n",
       "    </tr>\n",
       "  </thead>\n",
       "  <tbody>\n",
       "    <tr>\n",
       "      <th>217527</th>\n",
       "      <td>5669791</td>\n",
       "      <td>Denver</td>\n",
       "      <td>Diana DeGette</td>\n",
       "    </tr>\n",
       "    <tr>\n",
       "      <th>79767</th>\n",
       "      <td>2802077</td>\n",
       "      <td>Denver</td>\n",
       "      <td>Charles Casper Stockham</td>\n",
       "    </tr>\n",
       "    <tr>\n",
       "      <th>102694</th>\n",
       "      <td>5302460</td>\n",
       "      <td>Denver</td>\n",
       "      <td>Diana DeGette</td>\n",
       "    </tr>\n",
       "    <tr>\n",
       "      <th>257724</th>\n",
       "      <td>6955084</td>\n",
       "      <td>Denver</td>\n",
       "      <td>Diana DeGette</td>\n",
       "    </tr>\n",
       "    <tr>\n",
       "      <th>152335</th>\n",
       "      <td>5135266</td>\n",
       "      <td>Denver</td>\n",
       "      <td>Diana DeGette</td>\n",
       "    </tr>\n",
       "  </tbody>\n",
       "</table>\n",
       "</div>"
      ],
      "text/plain": [
       "        Ballot ID  County                Candidate\n",
       "217527    5669791  Denver            Diana DeGette\n",
       "79767     2802077  Denver  Charles Casper Stockham\n",
       "102694    5302460  Denver            Diana DeGette\n",
       "257724    6955084  Denver            Diana DeGette\n",
       "152335    5135266  Denver            Diana DeGette"
      ]
     },
     "execution_count": 41,
     "metadata": {},
     "output_type": "execute_result"
    }
   ],
   "source": [
    "# Show a sample of the data to make sure it pulled in correcty\n",
    "election_df.sample(5)"
   ]
  },
  {
   "cell_type": "code",
   "execution_count": 42,
   "id": "908b72ad-b64d-407d-8c3c-fe65810f902f",
   "metadata": {},
   "outputs": [
    {
     "data": {
      "text/plain": [
       "Index(['Ballot ID', 'County', 'Candidate'], dtype='object')"
      ]
     },
     "execution_count": 42,
     "metadata": {},
     "output_type": "execute_result"
    }
   ],
   "source": [
    "# Check the names of the columns in the dataset to ensure correct spelling\n",
    "election_df.columns"
   ]
  },
  {
   "cell_type": "markdown",
   "id": "b50a4964-f3c9-4fdc-a9f8-08c6b1c9ef02",
   "metadata": {},
   "source": [
    "Election Data Analysis"
   ]
  },
  {
   "cell_type": "code",
   "execution_count": 43,
   "id": "6bd4a8d0-ccb7-4e20-8fa2-3fd88aa90075",
   "metadata": {},
   "outputs": [],
   "source": [
    "# use the count function on the series \"Ballot ID\" to count the total number of votes\n",
    "\n",
    "totalVotes = election_df[\"Ballot ID\"].count()"
   ]
  },
  {
   "cell_type": "code",
   "execution_count": 44,
   "id": "c2771ca5-715b-48c7-8e5a-16e5feaa6bf0",
   "metadata": {},
   "outputs": [
    {
     "name": "stdout",
     "output_type": "stream",
     "text": [
      "Total Votes: 369711\n"
     ]
    }
   ],
   "source": [
    "print(\"Total Votes: \" + (str(int(totalVotes))))"
   ]
  },
  {
   "cell_type": "code",
   "execution_count": 52,
   "id": "c7a31ebd-d3c6-4284-a963-9523c165e6c1",
   "metadata": {},
   "outputs": [
    {
     "name": "stdout",
     "output_type": "stream",
     "text": [
      "{'Charles Casper Stockham': [], 'Diana DeGette': [], 'Raymon Anthony Doane': []}\n"
     ]
    }
   ],
   "source": [
    "# Use unique function on the \"Candidate\" series to create a unique candidate variable and store this as a dictionary, this will return all candidates on the ballot\n",
    "\n",
    "unique_candidates = election_df[\"Candidate\"].unique()\n",
    "candidate_dict = {candidate: [] for candidate in unique_candidates}\n",
    "print(candidate_dict)"
   ]
  },
  {
   "cell_type": "code",
   "execution_count": 65,
   "id": "4deadd77-a471-4a4b-860a-fb2a84dadcc3",
   "metadata": {},
   "outputs": [
    {
     "data": {
      "text/html": [
       "<div>\n",
       "<style scoped>\n",
       "    .dataframe tbody tr th:only-of-type {\n",
       "        vertical-align: middle;\n",
       "    }\n",
       "\n",
       "    .dataframe tbody tr th {\n",
       "        vertical-align: top;\n",
       "    }\n",
       "\n",
       "    .dataframe thead th {\n",
       "        text-align: right;\n",
       "    }\n",
       "</style>\n",
       "<table border=\"1\" class=\"dataframe\">\n",
       "  <thead>\n",
       "    <tr style=\"text-align: right;\">\n",
       "      <th></th>\n",
       "      <th>Ballot ID</th>\n",
       "      <th>County</th>\n",
       "      <th>Candidate</th>\n",
       "      <th>Vote Counts</th>\n",
       "    </tr>\n",
       "  </thead>\n",
       "  <tbody>\n",
       "    <tr>\n",
       "      <th>0</th>\n",
       "      <td>1323913</td>\n",
       "      <td>Jefferson</td>\n",
       "      <td>Charles Casper Stockham</td>\n",
       "      <td>1</td>\n",
       "    </tr>\n",
       "    <tr>\n",
       "      <th>1</th>\n",
       "      <td>1005842</td>\n",
       "      <td>Jefferson</td>\n",
       "      <td>Charles Casper Stockham</td>\n",
       "      <td>1</td>\n",
       "    </tr>\n",
       "    <tr>\n",
       "      <th>2</th>\n",
       "      <td>1880345</td>\n",
       "      <td>Jefferson</td>\n",
       "      <td>Charles Casper Stockham</td>\n",
       "      <td>1</td>\n",
       "    </tr>\n",
       "    <tr>\n",
       "      <th>3</th>\n",
       "      <td>1600337</td>\n",
       "      <td>Jefferson</td>\n",
       "      <td>Charles Casper Stockham</td>\n",
       "      <td>1</td>\n",
       "    </tr>\n",
       "    <tr>\n",
       "      <th>4</th>\n",
       "      <td>1835994</td>\n",
       "      <td>Jefferson</td>\n",
       "      <td>Charles Casper Stockham</td>\n",
       "      <td>1</td>\n",
       "    </tr>\n",
       "  </tbody>\n",
       "</table>\n",
       "</div>"
      ],
      "text/plain": [
       "   Ballot ID     County                Candidate  Vote Counts\n",
       "0    1323913  Jefferson  Charles Casper Stockham            1\n",
       "1    1005842  Jefferson  Charles Casper Stockham            1\n",
       "2    1880345  Jefferson  Charles Casper Stockham            1\n",
       "3    1600337  Jefferson  Charles Casper Stockham            1\n",
       "4    1835994  Jefferson  Charles Casper Stockham            1"
      ]
     },
     "execution_count": 65,
     "metadata": {},
     "output_type": "execute_result"
    }
   ],
   "source": [
    "# Create a Vote Count Column to be able to do Sum and % Total Calculations off of\n",
    "vote_count = election_df[\"Candidate\"].apply(lambda x:1)\n",
    "Open#add the new series Vote Count into the dataframe\n",
    "election_df[\"Vote Counts\"] = vote_count\n",
    "election_df.head()\n",
    "\n"
   ]
  },
  {
   "cell_type": "code",
   "execution_count": 67,
   "id": "37ff5d20-e7ef-41e8-a1d9-d9b6dc448d9e",
   "metadata": {},
   "outputs": [
    {
     "data": {
      "text/plain": [
       "369711"
      ]
     },
     "execution_count": 67,
     "metadata": {},
     "output_type": "execute_result"
    }
   ],
   "source": [
    "# Need to sum up the counts by candidate and find the total % for each candidate - add to dictionary?\n",
    "candidate_vote_count = election_df[\"Vote Counts\"].sum()\n",
    "candidate_vote_count"
   ]
  },
  {
   "cell_type": "code",
   "execution_count": 70,
   "id": "8ffb7681-40c5-4da9-b949-46f0ca3a2e61",
   "metadata": {},
   "outputs": [],
   "source": [
    "# Count the number of times a candidate's name is listed to get total counts per candidate\n",
    "candidate_count = election_df[\"Candidate\"].value_counts().astype(int)"
   ]
  },
  {
   "cell_type": "code",
   "execution_count": 71,
   "id": "eaecd1cb-3a8d-4a21-bc5d-bed1b94f1273",
   "metadata": {},
   "outputs": [
    {
     "data": {
      "text/plain": [
       "Candidate\n",
       "Diana DeGette              272892\n",
       "Charles Casper Stockham     85213\n",
       "Raymon Anthony Doane        11606\n",
       "Name: count, dtype: int32"
      ]
     },
     "execution_count": 71,
     "metadata": {},
     "output_type": "execute_result"
    }
   ],
   "source": [
    "candidate_count"
   ]
  },
  {
   "cell_type": "code",
   "execution_count": 77,
   "id": "fa16dab9-50b3-43a3-9a8c-dd9ced3d447d",
   "metadata": {},
   "outputs": [
    {
     "data": {
      "text/plain": [
       "Candidate\n",
       "Diana DeGette              73.812248\n",
       "Charles Casper Stockham    23.048543\n",
       "Raymon Anthony Doane        3.139209\n",
       "Name: count, dtype: float64"
      ]
     },
     "execution_count": 77,
     "metadata": {},
     "output_type": "execute_result"
    }
   ],
   "source": [
    "percentage_votes = candidate_count / candidate_vote_count*100\n",
    "percentage_votes"
   ]
  },
  {
   "cell_type": "code",
   "execution_count": 81,
   "id": "186e6cf7-845e-49fe-a43e-675761c12bbc",
   "metadata": {},
   "outputs": [
    {
     "ename": "NameError",
     "evalue": "name 'vote' is not defined",
     "output_type": "error",
     "traceback": [
      "\u001b[1;31m---------------------------------------------------------------------------\u001b[0m",
      "\u001b[1;31mNameError\u001b[0m                                 Traceback (most recent call last)",
      "Cell \u001b[1;32mIn[81], line 2\u001b[0m\n\u001b[0;32m      1\u001b[0m candidate_full_dict \u001b[38;5;241m=\u001b[39m [{candidate: [] \u001b[38;5;28;01mfor\u001b[39;00m candidate \u001b[38;5;129;01min\u001b[39;00m unique_candidates},\n\u001b[1;32m----> 2\u001b[0m                     {vote: [] \u001b[38;5;28;01mfor\u001b[39;00m percent \u001b[38;5;129;01min\u001b[39;00m percentage_votes},\n\u001b[0;32m      3\u001b[0m                     {total: [] \u001b[38;5;28;01mfor\u001b[39;00m total \u001b[38;5;129;01min\u001b[39;00m candidate_count},\n\u001b[0;32m      4\u001b[0m                     ]\n",
      "Cell \u001b[1;32mIn[81], line 2\u001b[0m, in \u001b[0;36m<dictcomp>\u001b[1;34m(.0)\u001b[0m\n\u001b[0;32m      1\u001b[0m candidate_full_dict \u001b[38;5;241m=\u001b[39m [{candidate: [] \u001b[38;5;28;01mfor\u001b[39;00m candidate \u001b[38;5;129;01min\u001b[39;00m unique_candidates},\n\u001b[1;32m----> 2\u001b[0m                     {\u001b[43mvote\u001b[49m: [] \u001b[38;5;28;01mfor\u001b[39;00m percent \u001b[38;5;129;01min\u001b[39;00m percentage_votes},\n\u001b[0;32m      3\u001b[0m                     {total: [] \u001b[38;5;28;01mfor\u001b[39;00m total \u001b[38;5;129;01min\u001b[39;00m candidate_count},\n\u001b[0;32m      4\u001b[0m                     ]\n",
      "\u001b[1;31mNameError\u001b[0m: name 'vote' is not defined"
     ]
    }
   ],
   "source": [
    "candidate_full_dict = [{candidate: [] for candidate in unique_candidates},\n",
    "                    {vote: [] for percent in percentage_votes},\n",
    "                    {total: [] for total in candidate_count},\n",
    "                    ]"
   ]
  },
  {
   "cell_type": "code",
   "execution_count": null,
   "id": "51245d98-5d49-41f6-aad7-d23d1003f2c7",
   "metadata": {},
   "outputs": [],
   "source": []
  },
  {
   "cell_type": "code",
   "execution_count": null,
   "id": "3bd1a9c2-5b17-4a7d-8b06-99d0eeadcc08",
   "metadata": {},
   "outputs": [],
   "source": []
  }
 ],
 "metadata": {
  "kernelspec": {
   "display_name": "Python 3 (ipykernel)",
   "language": "python",
   "name": "python3"
  },
  "language_info": {
   "codemirror_mode": {
    "name": "ipython",
    "version": 3
   },
   "file_extension": ".py",
   "mimetype": "text/x-python",
   "name": "python",
   "nbconvert_exporter": "python",
   "pygments_lexer": "ipython3",
   "version": "3.10.14"
  }
 },
 "nbformat": 4,
 "nbformat_minor": 5
}
